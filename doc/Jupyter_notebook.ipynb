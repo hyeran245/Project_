{
 "cells": [
  {
   "cell_type": "markdown",
   "metadata": {},
   "source": [
    "# 1. Introduction  \n",
    "### Describe PE2  \n",
    "PE2 courses use programming to address practical issues in engineering. Through this, we aim to master the ability to solve automation, data analysis, and modeling problems addressed in the industrial field.  \n",
    "### Describe your team members and roles for each members  \n",
    "Park Jae Hyuk  \n",
    "<img src=\"C:\\Users\\이혜란\\OneDrive\\바탕 화면\\img/박재혁.png\" width=300px></img>\n",
    "- Leader of the team\n",
    "- Provides overall direction for the project\n",
    "- Modified the details of the coding of the team members.\n",
    "- Giving feedback on coding to team members  \n",
    "\n",
    "Noh Tae-hyun  \n",
    "<img src=\"C:\\Users\\이혜란\\OneDrive\\바탕 화면\\img/노태현.png\" width=300px></img>\n",
    "- Shared materials to help with coding  \n",
    "- Create presentation materials  \n",
    "- Partially coding for each module  \n",
    "\n",
    "\n",
    "Lee Hye-ran  \n",
    "<img src=\"C:\\Users\\이혜란\\OneDrive\\바탕 화면\\img/이혜란.png\" width=300px></img>\n",
    "- Share usage of specific libraries  \n",
    "- Partially coding for each module  \n",
    "- Presenting and creating the overall flow of presentation materials  \n",
    "\n",
    "---\n",
    "\n",
    "\n"
   ]
  },
  {
   "cell_type": "markdown",
   "metadata": {},
   "source": [
    "# 2. Object of project\n",
    "### Explain object of project\n",
    "First all, this project is intended to create modules for large amounts of data to understand information about the data. We tried to analyze the modulation performance of the modulator easily. When a client provides data to a developer, the developer creates software for the data received from the client.  \n",
    "\n",
    "---"
   ]
  },
  {
   "cell_type": "markdown",
   "metadata": {},
   "source": [
    "# 3. Structure of code\n",
    "### Explain your code\n"
   ]
  },
  {
   "cell_type": "code",
   "execution_count": null,
   "metadata": {},
   "outputs": [],
   "source": [
    "#코딩 보여주기"
   ]
  },
  {
   "cell_type": "markdown",
   "metadata": {},
   "source": [
    "# 4. Example of analysis result\n",
    "### Show a sample image of analysis result  \n",
    "![](analysis result)\n",
    "### Show a table in csv file\n",
    "\n"
   ]
  },
  {
   "cell_type": "code",
   "execution_count": null,
   "metadata": {},
   "outputs": [],
   "source": []
  }
 ],
 "metadata": {
  "kernelspec": {
   "display_name": "Python 3",
   "language": "python",
   "name": "python3"
  },
  "language_info": {
   "codemirror_mode": {
    "name": "ipython",
    "version": 3
   },
   "file_extension": ".py",
   "mimetype": "text/x-python",
   "name": "python",
   "nbconvert_exporter": "python",
   "pygments_lexer": "ipython3",
   "version": "3.8.5"
  }
 },
 "nbformat": 4,
 "nbformat_minor": 4
}
