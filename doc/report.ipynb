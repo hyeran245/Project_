{
 "cells": [
  {
   "cell_type": "markdown",
   "metadata": {},
   "source": [
    "# 1. Introduction  \n",
    "### Describe PE2  \n",
    "PE2 courses use programming to address practical issues in engineering. Through this, we aim to master the ability to solve automation, data analysis, and modeling problems addressed in the industrial field.  "
   ]
  },
  {
   "cell_type": "markdown",
   "metadata": {},
   "source": [
    "### Describe your team members and roles for each members  "
   ]
  },
  {
   "cell_type": "markdown",
   "metadata": {},
   "source": [
    "![재혁](https://media.discordapp.net/attachments/848924937712435253/848925361429020692/1.jpg)"
   ]
  },
  {
   "cell_type": "markdown",
   "metadata": {},
   "source": [
    "Park Jae Hyuk  \n",
    "- Leader of the team\n",
    "- Provides overall direction for the project\n",
    "- Modified the details of the coding of the team members.\n",
    "- Giving feedback on coding to team members  "
   ]
  },
  {
   "cell_type": "markdown",
   "metadata": {},
   "source": [
    "![태현](https://media.discordapp.net/attachments/848924937712435253/848925364272758845/2.png)"
   ]
  },
  {
   "cell_type": "markdown",
   "metadata": {},
   "source": [
    "Noh Tae-hyun  \n",
    "- Shared materials to help with coding  \n",
    "- Create presentation materials  \n",
    "- Partially coding for each module  "
   ]
  },
  {
   "cell_type": "markdown",
   "metadata": {},
   "source": [
    "![혜란](https://media.discordapp.net/attachments/848924937712435253/848925359298445332/4.jpg)"
   ]
  },
  {
   "cell_type": "markdown",
   "metadata": {},
   "source": [
    "Lee Hye-ran  \n",
    "- Share usage of specific libraries  \n",
    "- Partially coding for each module  \n",
    "- Presenting and creating the overall flow of presentation materials  \n",
    "\n",
    "---"
   ]
  },
  {
   "cell_type": "markdown",
   "metadata": {},
   "source": [
    "# 2. Object of project\n",
    "### Explain object of project\n",
    "First all, this project is intended to create modules for large amounts of data to understand information about the data. We tried to analyze the modulation performance of the modulator easily. When a client provides data to a developer, the developer creates software for the data received from the client.  \n"
   ]
  },
  {
   "cell_type": "markdown",
   "metadata": {},
   "source": [
    "![폴더구성추가하기](https://cdn.discordapp.com/attachments/848924937712435253/849220087553982474/KakaoTalk_20210601_183631500.png)\n",
    "---"
   ]
  },
  {
   "cell_type": "markdown",
   "metadata": {},
   "source": [
    "# 3. Structure of code\n",
    "### Explain your code\n"
   ]
  },
  {
   "cell_type": "code",
   "execution_count": null,
   "metadata": {},
   "outputs": [],
   "source": [
    "#코딩 보여주기"
   ]
  },
  {
   "cell_type": "markdown",
   "metadata": {},
   "source": [
    "# 4. Example of analysis result\n",
    "### Show a sample image of analysis result  \n",
    "\n"
   ]
  },
  {
   "cell_type": "markdown",
   "metadata": {},
   "source": [
    "![result](https://cdn.discordapp.com/attachments/848924937712435253/848932787088261150/KakaoTalk_20210531_232448716_01.png)"
   ]
  },
  {
   "cell_type": "markdown",
   "metadata": {},
   "source": [
    "### Show a table in csv file"
   ]
  },
  {
   "cell_type": "markdown",
   "metadata": {},
   "source": [
    "![csv](https://cdn.discordapp.com/attachments/848924937712435253/848932776405237770/KakaoTalk_20210531_232448716_02.png)"
   ]
  },
  {
   "cell_type": "markdown",
   "metadata": {},
   "source": [
    "### Result of wafer-to-wager using csv file"
   ]
  },
  {
   "cell_type": "code",
   "execution_count": null,
   "metadata": {},
   "outputs": [],
   "source": []
  },
  {
   "cell_type": "code",
   "execution_count": null,
   "metadata": {},
   "outputs": [],
   "source": []
  },
  {
   "cell_type": "code",
   "execution_count": null,
   "metadata": {},
   "outputs": [],
   "source": []
  }
 ],
 "metadata": {
  "kernelspec": {
   "display_name": "Python 3",
   "language": "python",
   "name": "python3"
  },
  "language_info": {
   "codemirror_mode": {
    "name": "ipython",
    "version": 3
   },
   "file_extension": ".py",
   "mimetype": "text/x-python",
   "name": "python",
   "nbconvert_exporter": "python",
   "pygments_lexer": "ipython3",
   "version": "3.8.5"
  }
 },
 "nbformat": 4,
 "nbformat_minor": 4
}
