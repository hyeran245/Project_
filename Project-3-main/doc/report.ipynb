{
 "cells": [
  {
   "cell_type": "markdown",
   "metadata": {},
   "source": [
    "# 1. Introduction  \n",
    "### Describe PE2  \n",
    "PE2 courses use programming to address practical issues in engineering. Through this, we aim to master the ability to solve automation, data analysis, and modeling problems addressed in the industrial field.  "
   ]
  },
  {
   "cell_type": "markdown",
   "metadata": {},
   "source": [
    "### Describe your team members and roles for each members  "
   ]
  },
  {
   "cell_type": "markdown",
   "metadata": {},
   "source": [
    "![재혁](https://media.discordapp.net/attachments/848924937712435253/848925361429020692/1.jpg)"
   ]
  },
  {
   "cell_type": "markdown",
   "metadata": {},
   "source": [
    "Park Jae Hyuk  \n",
    "- Leader of the team\n",
    "- Provides overall direction for the project\n",
    "- Modified the details of the coding of the team members.\n",
    "- Giving feedback on coding to team members  "
   ]
  },
  {
   "cell_type": "markdown",
   "metadata": {},
   "source": [
    "![태현](https://media.discordapp.net/attachments/848924937712435253/848925364272758845/2.png)"
   ]
  },
  {
   "cell_type": "markdown",
   "metadata": {},
   "source": [
    "Noh Tae-hyun  \n",
    "- Shared materials to help with coding  \n",
    "- Create presentation materials  \n",
    "- Partially coding for each module "
   ]
  },
  {
   "cell_type": "markdown",
   "metadata": {},
   "source": [
    "![혜란](https://media.discordapp.net/attachments/848924937712435253/848925359298445332/4.jpg)"
   ]
  },
  {
   "cell_type": "markdown",
   "metadata": {},
   "source": [
    "Lee Hye-ran  \n",
    "- Share usage of specific libraries  \n",
    "- Partially coding for each module  \n",
    "- Presenting and creating the overall flow of presentation materials  \n",
    "\n",
    "---"
   ]
  },
  {
   "cell_type": "markdown",
   "metadata": {},
   "source": [
    "# 2. Object of project\n",
    "### Explain object of project\n",
    "First all, this project is intended to create modules for large amounts of data to understand information about the data. We tried to analyze the modulation performance of the modulator easily. When a client provides data to a developer, the developer creates software for the data received from the client.  \n",
    "\n",
    "![picture](https://cdn.discordapp.com/attachments/848924937712435253/849220087553982474/KakaoTalk_20210601_183631500.png)\n",
    "---"
   ]
  },
  {
   "cell_type": "markdown",
   "metadata": {},
   "source": [
    "# 3. Structure of code\n",
    "### Explain your code\n",
    "#### 1) src_directory.py  \n",
    "- It allows Python to perform several functions imported by os, and determines whether a specified path exists."
   ]
  },
  {
   "cell_type": "code",
   "execution_count": 3,
   "metadata": {},
   "outputs": [],
   "source": [
    "import os\n",
    "\n",
    "def create_folder(directory):\n",
    "    try:\n",
    "        if not os.path.exists(directory):\n",
    "            os.makedirs(directory)\n",
    "    except OSError:\n",
    "        print('Error: Creating directory. ' + directory)"
   ]
  },
  {
   "cell_type": "markdown",
   "metadata": {},
   "source": [
    "#### 2) src_extract.py  \n",
    "- We imported the necessary libraries to extract the data and defined a function that stores data. \n",
    "- We used a method of generating an empty list of data and values and then adding values. For example, 'TestSiteInfo' added a value for the item 'Batch'. \n",
    "- We added parts that needed more information from the script."
   ]
  },
  {
   "cell_type": "code",
   "execution_count": 5,
   "metadata": {
    "scrolled": false
   },
   "outputs": [
    {
     "ename": "ImportError",
     "evalue": "attempted relative import with no known parent package",
     "output_type": "error",
     "traceback": [
      "\u001b[1;31m---------------------------------------------------------------------------\u001b[0m",
      "\u001b[1;31mImportError\u001b[0m                               Traceback (most recent call last)",
      "\u001b[1;32m<ipython-input-5-08c4b8340366>\u001b[0m in \u001b[0;36m<module>\u001b[1;34m\u001b[0m\n\u001b[0;32m      3\u001b[0m \u001b[1;32mfrom\u001b[0m \u001b[0mdateutil\u001b[0m\u001b[1;33m.\u001b[0m\u001b[0mparser\u001b[0m \u001b[1;32mimport\u001b[0m \u001b[0mparse\u001b[0m\u001b[1;33m\u001b[0m\u001b[1;33m\u001b[0m\u001b[0m\n\u001b[0;32m      4\u001b[0m \u001b[1;32mimport\u001b[0m \u001b[0mos\u001b[0m\u001b[1;33m\u001b[0m\u001b[1;33m\u001b[0m\u001b[0m\n\u001b[1;32m----> 5\u001b[1;33m \u001b[1;32mfrom\u001b[0m \u001b[1;33m.\u001b[0m \u001b[1;32mimport\u001b[0m \u001b[0mgraph\u001b[0m\u001b[1;33m\u001b[0m\u001b[1;33m\u001b[0m\u001b[0m\n\u001b[0m\u001b[0;32m      6\u001b[0m \u001b[1;32mfrom\u001b[0m \u001b[1;33m.\u001b[0m \u001b[1;32mimport\u001b[0m \u001b[0mpath\u001b[0m\u001b[1;33m\u001b[0m\u001b[1;33m\u001b[0m\u001b[0m\n\u001b[0;32m      7\u001b[0m \u001b[1;32mfrom\u001b[0m \u001b[1;33m.\u001b[0m \u001b[1;32mimport\u001b[0m \u001b[0mdirectory\u001b[0m\u001b[1;33m\u001b[0m\u001b[1;33m\u001b[0m\u001b[0m\n",
      "\u001b[1;31mImportError\u001b[0m: attempted relative import with no known parent package"
     ]
    }
   ],
   "source": [
    "import pandas\n",
    "import xml.etree.ElementTree as ET\n",
    "from dateutil.parser import parse\n",
    "import os\n",
    "from . import graph\n",
    "from . import path\n",
    "from . import directory\n",
    "\n",
    "\n",
    "def data_save(route):\n",
    "    tree = ET.parse(route)\n",
    "    root = tree.getroot()\n",
    "\n",
    "    columns = ['Lot', 'Wafer', 'Mask', 'TestSite', 'Name', 'Date', 'Row', 'Column', 'ErrorFlag', 'Error description', 'Analysis Wavelength', 'Rsq of Ref. spectrum (Nth)', 'Max transmission of Ref. spec. (dB)', 'Rsq of IV', 'I at -1V [A]', 'I at 1V[A]']\n",
    "    #  'Script ID', 'Script Version', 'Script Owner',\n",
    "    #  스크립트 정보\n",
    "\n",
    "    data = []\n",
    "    values = []\n",
    "\n",
    "    TestSiteInfo = root.find('TestSiteInfo').attrib\n",
    "    values.append(TestSiteInfo['Batch'])\n",
    "    values.append(TestSiteInfo['Wafer'])\n",
    "    values.append(TestSiteInfo['Maskset'])\n",
    "    values.append(TestSiteInfo['TestSite'])\n",
    "    Modulator = root.find('.//Modulator')\n",
    "    values.append(Modulator.attrib['Name'])\n",
    "    PortCombo = Modulator.find('PortCombo')\n",
    "    values.append(parse(PortCombo.attrib['DateStamp']))\n",
    "    values.append(TestSiteInfo['DieRow'])\n",
    "    values.append(TestSiteInfo['DieColumn'])\n",
    "\n",
    "    if graph.ref_max_Rsq >= 0.99:\n",
    "        ErrorFlag = 0\n",
    "        ErrorDescription = 'No Error'\n",
    "    else:\n",
    "        ErrorFlag = 1\n",
    "        ErrorDescription = 'Ref. spec. Error'\n",
    "\n",
    "    values.append(ErrorFlag)\n",
    "    values.append(ErrorDescription)\n",
    "    values.append(root.find(\".//DesignParameter[@Name='Design wavelength']\").text)\n",
    "    values.append(graph.ref_max_Rsq)\n",
    "    values.append(graph.max_IL)\n",
    "\n",
    "    voltage = list(map(float, root.find('.//IVMeasurement/Voltage').text.split(',')))\n",
    "    current = list(map(float, root.find('.//IVMeasurement/Current').text.split(',')))\n",
    "    index1 = voltage.index(-1)\n",
    "    index2 = voltage.index(1)\n",
    "    values.append(graph.IV_max_rsq)\n",
    "    values.append(current[index1])\n",
    "    values.append(current[index2])\n",
    "\n",
    "    # 스크립트 정보 추가 필요\n",
    "\n",
    "    data.append(values)\n",
    "    # df = pd.DataFrame(data, columns=columns).set_index('Lot')\n",
    "    df = pandas.DataFrame(data, columns=columns).set_index(\"Lot\")\n",
    "    save_route = path.path() + '/result/csv'\n",
    "    directory.create_folder(save_route)\n",
    "    if not os.path.exists(save_route + '/data.csv'):\n",
    "        df.to_csv(save_route + '/data.csv', mode='w')\n",
    "    else:\n",
    "        df.to_csv(save_route + '/data.csv', mode='a', header=False)\n"
   ]
  },
  {
   "cell_type": "markdown",
   "metadata": {},
   "source": [
    "#### 3) src_graph.py  \n",
    "- We define polyfit, IV, graph functions and find and fit points where the R^square value is maximum. \n",
    "- Then, we visualized the fitted graph. \n",
    "- We also added options on whether to show or save graphs."
   ]
  },
  {
   "cell_type": "code",
   "execution_count": 7,
   "metadata": {},
   "outputs": [
    {
     "ename": "ImportError",
     "evalue": "attempted relative import with no known parent package",
     "output_type": "error",
     "traceback": [
      "\u001b[1;31m---------------------------------------------------------------------------\u001b[0m",
      "\u001b[1;31mImportError\u001b[0m                               Traceback (most recent call last)",
      "\u001b[1;32m<ipython-input-7-1158ae22664a>\u001b[0m in \u001b[0;36m<module>\u001b[1;34m\u001b[0m\n\u001b[0;32m      6\u001b[0m \u001b[1;32mimport\u001b[0m \u001b[0mwarnings\u001b[0m\u001b[1;33m\u001b[0m\u001b[1;33m\u001b[0m\u001b[0m\n\u001b[0;32m      7\u001b[0m \u001b[1;32mfrom\u001b[0m \u001b[0mlmfit\u001b[0m \u001b[1;32mimport\u001b[0m \u001b[0mParameters\u001b[0m\u001b[1;33m,\u001b[0m \u001b[0mfit_report\u001b[0m\u001b[1;33m,\u001b[0m \u001b[0mminimize\u001b[0m\u001b[1;33m,\u001b[0m \u001b[0mModel\u001b[0m\u001b[1;33m\u001b[0m\u001b[1;33m\u001b[0m\u001b[0m\n\u001b[1;32m----> 8\u001b[1;33m \u001b[1;32mfrom\u001b[0m \u001b[1;33m.\u001b[0m \u001b[1;32mimport\u001b[0m \u001b[0mpath\u001b[0m\u001b[1;33m\u001b[0m\u001b[1;33m\u001b[0m\u001b[0m\n\u001b[0m\u001b[0;32m      9\u001b[0m \u001b[1;32mfrom\u001b[0m \u001b[1;33m.\u001b[0m \u001b[1;32mimport\u001b[0m \u001b[0mdirectory\u001b[0m\u001b[1;33m\u001b[0m\u001b[1;33m\u001b[0m\u001b[0m\n\u001b[0;32m     10\u001b[0m \u001b[1;33m\u001b[0m\u001b[0m\n",
      "\u001b[1;31mImportError\u001b[0m: attempted relative import with no known parent package"
     ]
    }
   ],
   "source": [
    "import xml.etree.ElementTree as ET\n",
    "from xml.etree.ElementTree import parse\n",
    "import matplotlib.pyplot as plt\n",
    "import numpy as np\n",
    "from numpy import exp\n",
    "import warnings\n",
    "from lmfit import Parameters, fit_report, minimize, Model\n",
    "from . import path\n",
    "from . import directory\n",
    "\n",
    "\n",
    "def polyfit(x, y, degree):\n",
    "    results = {}\n",
    "    coeffs = np.polyfit(x, y, degree)\n",
    "    results['polynomial'] = coeffs.tolist()\n",
    "    p = np.poly1d(coeffs)\n",
    "    yhat = p(x)\n",
    "    ybar = np.sum(y)/len(y)\n",
    "    ssreg = np.sum((yhat-ybar)**2)\n",
    "    sstot = np.sum((y - ybar)**2)\n",
    "    results['determination'] = ssreg / sstot\n",
    "    return results\n",
    "\n",
    "\n",
    "def IV(x, Is, vt): #IV 함수정의\n",
    "    return Is * (exp(x / vt) - 1)\n",
    "\n",
    "\n",
    "def graph(route, save, show):\n",
    "    with warnings.catch_warnings():\n",
    "        warnings.simplefilter('ignore', np.RankWarning)\n",
    "        tree = parse(str(route)) #파싱함\n",
    "        root = tree.getroot()\n",
    "        plt.figure(figsize=(16, 10)) \n",
    "\n",
    "        # IV Measurement\n",
    "        plt.subplot(2, 2, 4)\n",
    "        voltage = list(map(float, root.find('.//IVMeasurement/Voltage').text.split(',')))\n",
    "        current = list(map(float, root.find('.//IVMeasurement/Current').text.split(',')))\n",
    "        v = np.array(voltage) \n",
    "        c = np.array(current)\n",
    "        gmodel = Model(IV)\n",
    "        params = gmodel.make_params(Is=1, vt=0.026)\n",
    "        result = gmodel.fit(c, params, x=v)\n",
    "\n",
    "        c2 = c - result.best_fit \n",
    "        IV_Rsq = {}\n",
    "        for i in range(1, 20):\n",
    "            poly = polyfit(v, c2, i)\n",
    "            IV_Rsq[i] = poly['determination']\n",
    "        IV_max_key = max(IV_Rsq, key=lambda key: IV_Rsq[key])\n",
    "        global IV_max_rsq\n",
    "        IV_max_rsq = IV_Rsq[IV_max_key]\n",
    "        polyIV = np.poly1d(np.polyfit(v, c2, IV_max_key))(v)\n",
    "\n",
    "        plt.plot(v, abs(c), 'ok')\n",
    "        plt.plot(v, abs(result.best_fit + polyIV), '--', label='Highest order term = {}'.format(IV_max_key))\n",
    "        plt.legend(loc='best')\n",
    "        plt.xlabel('Voltage[V]')\n",
    "        plt.ylabel('Current[A]')\n",
    "        plt.title('IV-analysis')\n",
    "        plt.yscale('log')\n",
    "\n",
    "        # Raw Spectrum\n",
    "        plt.subplot(2, 2, 1)\n",
    "        TestSiteInfo = root.find('TestSiteInfo')\n",
    "        TestSite = TestSiteInfo.attrib['TestSite']\n",
    "        ModulatorName = \".//*[@Name='{}_ALIGN']//\".format(TestSite)\n",
    "        ref_L = list(map(float, root.findtext(str(str(ModulatorName + 'L'))).split(',')))\n",
    "        ref_IL = list(map(float, root.findtext(str(str(ModulatorName + 'IL'))).split(',')))\n",
    "        global max_IL\n",
    "        max_IL = max(ref_IL)\n",
    "        for wavelengthsweep in root.iter('WavelengthSweep'):\n",
    "            L = list(map(float, wavelengthsweep.findtext('L').split(',')))\n",
    "            IL = list(map(float, wavelengthsweep.findtext('IL').split(',')))\n",
    "            if IL == ref_IL:\n",
    "                name = 'Reference'\n",
    "            else:\n",
    "                name = 'DCBias=' + str(wavelengthsweep.attrib['DCBias']) + 'V'\n",
    "            plt.plot(L, IL, 'o', label=name)\n",
    "\n",
    "        plt.legend(loc='lower right')\n",
    "        plt.xlabel('Wavelength[nm]')\n",
    "        plt.ylabel('Measured transmissions[dB]')\n",
    "        plt.title('Transmission spectra - as measured')\n",
    "\n",
    "        # Fitting\n",
    "        plt.subplot(2, 2, 3)\n",
    "        x = np.array(ref_L)\n",
    "        y = np.array(ref_IL)\n",
    "\n",
    "        plt.scatter(x, y, facecolor='none', edgecolor='r', alpha=0.06, label='Reference')\n",
    "        ref_Rsq = {}\n",
    "        for i in range(4, 7):\n",
    "            poly = polyfit(x, y, i)\n",
    "            ref_Rsq[i] = poly['determination']\n",
    "            fit = np.poly1d(poly['polynomial'])(x)\n",
    "            plt.plot(x, fit, label='Highest order term =' + str(i) + '\\nR^2 = ' + str(poly['determination']))\n",
    "\n",
    "        ref_max_key = max(ref_Rsq, key=lambda key: ref_Rsq[key])\n",
    "        global ref_max_Rsq\n",
    "        ref_max_Rsq = ref_Rsq[ref_max_key]\n",
    "        plt.legend(loc='lower right')\n",
    "        plt.xlabel('Wavelength[nm]')\n",
    "        plt.ylabel('Measured transmissions[dB]')\n",
    "        plt.title('Fitting Function')\n",
    "\n",
    "        # Modeling\n",
    "        plt.subplot(2, 2, 2)\n",
    "        ref = np.poly1d(np.polyfit(x, y, ref_max_key))\n",
    "        for wavelengthsweep in root.iter('WavelengthSweep'):\n",
    "            L = list(map(float, wavelengthsweep.findtext('L').split(',')))\n",
    "            IL = list(map(float, wavelengthsweep.findtext('IL').split(',')))\n",
    "            l = np.array(L)\n",
    "            il = np.array(IL)\n",
    "            if IL == ref_IL:\n",
    "                name = 'Reference'\n",
    "            else:\n",
    "                name = 'DCBias=' + str(wavelengthsweep.attrib['DCBias']) + 'V'\n",
    "            plt.plot(l, il - ref(l), label=name)\n",
    "\n",
    "        image_path = route.replace(\"\\\\\", \"/\").split(\"/\")\n",
    "        sub_path = ''\n",
    "        for i in range(-4, -1):\n",
    "            sub_path += '/' + image_path[i]\n",
    "        plt.legend(loc='lower right')\n",
    "        plt.xlabel('Wavelength[nm]')\n",
    "        plt.ylabel('Transmissions[dB]')\n",
    "        plt.title('Transmission spectra - fitted')\n",
    "        save_path = path.path() + '/result/graph/lot' + sub_path\n",
    "        directory.create_folder(save_path)\n",
    "\n",
    "        if show is True:\n",
    "            plt.show()\n",
    "        if save is True:\n",
    "            plt.savefig(save_path + '/' + image_path[-1] + '.png')\n",
    "        plt.close()"
   ]
  },
  {
   "cell_type": "markdown",
   "metadata": {},
   "source": [
    "#### 4) src_path.py  \n",
    "- We imported the os and defined the function path.\n",
    "- The function checks the current working path divided by '\\\\\\\\' and returns it by putting '/' between the values."
   ]
  },
  {
   "cell_type": "code",
   "execution_count": 9,
   "metadata": {},
   "outputs": [],
   "source": [
    "import os\n",
    "\n",
    "\n",
    "def path():\n",
    "    p = '/'.join(os.getcwd().split(\"\\\\\"))\n",
    "    return p\n"
   ]
  },
  {
   "cell_type": "markdown",
   "metadata": {},
   "source": [
    "#### 5) src_process.py  \n",
    "- Through the 'glob' library, only certain files were printed using the path name of the file.\n",
    "- We define the all function and visualize the state progress using 'tqdm'. \n",
    "- The definition of the wafer and coordinate functions is that flag = false is used to repeat the statement while the condition is false."
   ]
  },
  {
   "cell_type": "code",
   "execution_count": 11,
   "metadata": {
    "scrolled": false
   },
   "outputs": [
    {
     "ename": "ImportError",
     "evalue": "attempted relative import with no known parent package",
     "output_type": "error",
     "traceback": [
      "\u001b[1;31m---------------------------------------------------------------------------\u001b[0m",
      "\u001b[1;31mImportError\u001b[0m                               Traceback (most recent call last)",
      "\u001b[1;32m<ipython-input-11-c98d1d867c7d>\u001b[0m in \u001b[0;36m<module>\u001b[1;34m\u001b[0m\n\u001b[0;32m      2\u001b[0m \u001b[1;32mfrom\u001b[0m \u001b[0mglob\u001b[0m \u001b[1;32mimport\u001b[0m \u001b[0mglob\u001b[0m\u001b[1;33m\u001b[0m\u001b[1;33m\u001b[0m\u001b[0m\n\u001b[0;32m      3\u001b[0m \u001b[1;32mfrom\u001b[0m \u001b[0mtqdm\u001b[0m \u001b[1;32mimport\u001b[0m \u001b[0mtqdm\u001b[0m\u001b[1;33m\u001b[0m\u001b[1;33m\u001b[0m\u001b[0m\n\u001b[1;32m----> 4\u001b[1;33m \u001b[1;32mfrom\u001b[0m \u001b[1;33m.\u001b[0m \u001b[1;32mimport\u001b[0m \u001b[0mpath\u001b[0m\u001b[1;33m\u001b[0m\u001b[1;33m\u001b[0m\u001b[0m\n\u001b[0m\u001b[0;32m      5\u001b[0m \u001b[1;32mfrom\u001b[0m \u001b[1;33m.\u001b[0m \u001b[1;32mimport\u001b[0m \u001b[0mgraph\u001b[0m\u001b[1;33m\u001b[0m\u001b[1;33m\u001b[0m\u001b[0m\n\u001b[0;32m      6\u001b[0m \u001b[1;32mfrom\u001b[0m \u001b[1;33m.\u001b[0m \u001b[1;32mimport\u001b[0m \u001b[0mextract\u001b[0m\u001b[1;33m\u001b[0m\u001b[1;33m\u001b[0m\u001b[0m\n",
      "\u001b[1;31mImportError\u001b[0m: attempted relative import with no known parent package"
     ]
    }
   ],
   "source": [
    "import glob\n",
    "from glob import glob\n",
    "from tqdm import tqdm\n",
    "from . import path\n",
    "from . import graph\n",
    "from . import extract\n",
    "\n",
    "\n",
    "def all(save, show):\n",
    "    for data in tqdm(glob(path.path() + '/data/**/*LMZ*.xml', recursive=True)):\n",
    "        graph.graph(data, save, show)\n",
    "        extract.data_save(data)\n",
    "\n",
    "\n",
    "def wafer(wafer, save, show):\n",
    "    flag = False\n",
    "    for data in tqdm(glob(path.path() + '/data/**/{}/**/*LMZ*.xml'.format(wafer), recursive=True)):\n",
    "        graph.graph(data, save, show)\n",
    "        extract.data_save(data)\n",
    "        flag = True\n",
    "    if flag is False:\n",
    "        raise ValueError('Check Wafer Option')"
   ]
  },
  {
   "cell_type": "markdown",
   "metadata": {},
   "source": [
    "#### 6) run.py\n",
    "- We imported sys, a module that allows direct control of variables and functions provided by Python interpreters. \n",
    "- Dialog defined a new class in GUI programming, using a purpose-built dialog class as a window for user interaction. \n",
    "- We put wafer and coordinate as options to choose whether to show or save graphs.\n"
   ]
  },
  {
   "cell_type": "code",
   "execution_count": 13,
   "metadata": {},
   "outputs": [
    {
     "ename": "ModuleNotFoundError",
     "evalue": "No module named 'src'",
     "output_type": "error",
     "traceback": [
      "\u001b[1;31m---------------------------------------------------------------------------\u001b[0m",
      "\u001b[1;31mModuleNotFoundError\u001b[0m                       Traceback (most recent call last)",
      "\u001b[1;32m<ipython-input-13-e211c4054478>\u001b[0m in \u001b[0;36m<module>\u001b[1;34m\u001b[0m\n\u001b[0;32m      2\u001b[0m \u001b[1;32mfrom\u001b[0m \u001b[0mPyQt5\u001b[0m\u001b[1;33m.\u001b[0m\u001b[0mQtWidgets\u001b[0m \u001b[1;32mimport\u001b[0m \u001b[1;33m*\u001b[0m\u001b[1;33m\u001b[0m\u001b[1;33m\u001b[0m\u001b[0m\n\u001b[0;32m      3\u001b[0m \u001b[1;32mfrom\u001b[0m \u001b[0mPyQt5\u001b[0m\u001b[1;33m.\u001b[0m\u001b[0mQtCore\u001b[0m \u001b[1;32mimport\u001b[0m \u001b[1;33m*\u001b[0m\u001b[1;33m\u001b[0m\u001b[1;33m\u001b[0m\u001b[0m\n\u001b[1;32m----> 4\u001b[1;33m \u001b[1;32mfrom\u001b[0m \u001b[0msrc\u001b[0m \u001b[1;32mimport\u001b[0m \u001b[0mprocess\u001b[0m\u001b[1;33m\u001b[0m\u001b[1;33m\u001b[0m\u001b[0m\n\u001b[0m\u001b[0;32m      5\u001b[0m \u001b[1;33m\u001b[0m\u001b[0m\n\u001b[0;32m      6\u001b[0m \u001b[1;33m\u001b[0m\u001b[0m\n",
      "\u001b[1;31mModuleNotFoundError\u001b[0m: No module named 'src'"
     ]
    }
   ],
   "source": [
    "import sys\n",
    "from PyQt5.QtWidgets import *\n",
    "from PyQt5.QtCore import *\n",
    "from src import process\n",
    "\n",
    "\n",
    "class CInputDialogWindow(QMainWindow):\n",
    "    def __init__(self):\n",
    "        super().__init__()\n",
    "        self.setupUI()\n",
    "\n",
    "    def setupUI(self):\n",
    "        self.setWindowTitle(\"PyQtInputDialog 예제\")\n",
    "        self.setGeometry(100, 100, 200, 250)\n",
    "\n",
    "        self.label = QLabel(\"Wafer : \", self)\n",
    "        self.label.move(20, 20)\n",
    "        self.label.resize(150, 20)\n",
    "\n",
    "        self.label2 = QLabel(\"Column : \", self)\n",
    "        self.label2.move(20, 20)\n",
    "        self.label2.resize(150, 80)\n",
    "\n",
    "        self.waferEdit = QLineEdit(\"All\", self)\n",
    "        self.waferEdit.move(80, 20)\n",
    "        self.waferEdit.resize(100, 20)\n",
    "\n",
    "        self.columnEdit = QLineEdit(\"All\", self)\n",
    "        self.columnEdit.move(80, 50)\n",
    "        self.columnEdit.resize(100, 20)\n",
    "\n",
    "        self.saveEdit = QCheckBox(\"Save\", self)\n",
    "        self.saveEdit.move(30, 80)\n",
    "        self.saveEdit.toggle()\n",
    "\n",
    "        self.showEdit = QCheckBox(\"Show\", self)\n",
    "        self.showEdit.move(30, 100)\n",
    "        self.showEdit.toggle()\n",
    "\n",
    "        self.btnSave = QPushButton(\"OK\", self)\n",
    "        self.btnSave.move(50, 200)\n",
    "        self.btnSave.clicked.connect(self.btnInput_clicked)\n",
    "\n",
    "\n",
    "    def btnInput_clicked(self):\n",
    "        wafer = self.waferEdit.text()\n",
    "        column = self.columnEdit.text()\n",
    "        save = self.saveEdit.isChecked()\n",
    "        show = self.showEdit.isChecked()\n",
    "        try:\n",
    "            if wafer == '' or column == '':\n",
    "                raise ValueError('There is blank')\n",
    "            if wafer == 'All' and column == 'All':\n",
    "                process.all(save, show)\n",
    "            elif wafer != 'All' and column == 'All':\n",
    "                process.wafer(wafer, save, show)\n",
    "            else:\n",
    "                process.coordinate(wafer, column, save, show)\n",
    "        except ValueError as e:\n",
    "            print('Error: ', e, ', Pleas Input Again')\n",
    "        #QCoreApplication.instance().quit()\n",
    "\n",
    "\n",
    "if __name__ == \"__main__\":\n",
    "    app = QApplication(sys.argv)\n",
    "    window = CInputDialogWindow()\n",
    "    window.show()\n",
    "    app.exec_()"
   ]
  },
  {
   "cell_type": "markdown",
   "metadata": {},
   "source": [
    "#### 7) .gitignore\n",
    "- We used gitignore to prevent loss due to data conflicts and to prevent unwanted files from being uploaded."
   ]
  },
  {
   "cell_type": "code",
   "execution_count": 12,
   "metadata": {},
   "outputs": [
    {
     "ename": "SyntaxError",
     "evalue": "invalid syntax (<ipython-input-12-76736d79b648>, line 1)",
     "output_type": "error",
     "traceback": [
      "\u001b[1;36m  File \u001b[1;32m\"<ipython-input-12-76736d79b648>\"\u001b[1;36m, line \u001b[1;32m1\u001b[0m\n\u001b[1;33m    data/*\u001b[0m\n\u001b[1;37m         ^\u001b[0m\n\u001b[1;31mSyntaxError\u001b[0m\u001b[1;31m:\u001b[0m invalid syntax\n"
     ]
    }
   ],
   "source": [
    "data/*\n",
    "\n",
    "result/*\n",
    "\n",
    ".idea/*\n",
    "\n",
    "__pycache__/*\n",
    "\n",
    "test.py\n",
    "\n",
    "test2.py\n",
    "\n",
    "src/__pycache__"
   ]
  },
  {
   "cell_type": "markdown",
   "metadata": {},
   "source": [
    "# 4. Example of analysis result\n",
    "### Show a sample image of analysis result  "
   ]
  },
  {
   "cell_type": "markdown",
   "metadata": {},
   "source": [
    "![analysis result](https://cdn.discordapp.com/attachments/848924937712435253/848932787088261150/KakaoTalk_20210531_232448716_01.png)"
   ]
  },
  {
   "cell_type": "markdown",
   "metadata": {},
   "source": [
    "### Show a table in csv file"
   ]
  },
  {
   "cell_type": "markdown",
   "metadata": {},
   "source": [
    "![csv file](https://cdn.discordapp.com/attachments/848924937712435253/848932776405237770/KakaoTalk_20210531_232448716_02.png)"
   ]
  },
  {
   "cell_type": "code",
   "execution_count": null,
   "metadata": {},
   "outputs": [],
   "source": []
  }
 ],
 "metadata": {
  "kernelspec": {
   "display_name": "Python 3",
   "language": "python",
   "name": "python3"
  },
  "language_info": {
   "codemirror_mode": {
    "name": "ipython",
    "version": 3
   },
   "file_extension": ".py",
   "mimetype": "text/x-python",
   "name": "python",
   "nbconvert_exporter": "python",
   "pygments_lexer": "ipython3",
   "version": "3.8.5"
  }
 },
 "nbformat": 4,
 "nbformat_minor": 4
}
